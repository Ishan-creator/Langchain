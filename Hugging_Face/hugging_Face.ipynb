{
 "cells": [
  {
   "cell_type": "code",
   "execution_count": 2,
   "metadata": {},
   "outputs": [],
   "source": [
    "from langchain_community.document_loaders import PyPDFLoader\n",
    "from langchain_community.document_loaders import PyPDFDirectoryLoader\n",
    "from langchain.text_splitter import RecursiveCharacterTextSplitter\n",
    "from langchain_community.vectorstores import FAISS\n",
    "\n",
    "from langchain_community.embeddings import HuggingFaceBgeEmbeddings\n",
    "from langchain.prompts import PromptTemplate\n",
    "\n",
    "from langchain.chains import RetrievalQA\n"
   ]
  },
  {
   "cell_type": "code",
   "execution_count": 3,
   "metadata": {},
   "outputs": [
    {
     "data": {
      "text/plain": [
       "Document(page_content='KEY DEFINITIONS\\nHousehold income: Includes income of the', metadata={'source': 'us_census/acsbr-017.pdf', 'page': 0})"
      ]
     },
     "execution_count": 3,
     "metadata": {},
     "output_type": "execute_result"
    }
   ],
   "source": [
    "loader = PyPDFDirectoryLoader(\"./us_census\")\n",
    "\n",
    "documents = loader.load()\n",
    "text_splitter = RecursiveCharacterTextSplitter(chunk_size = 100 , chunk_overlap = 20)\n",
    "\n",
    "final_documents = text_splitter.split_documents(documents)\n",
    "final_documents[0]"
   ]
  },
  {
   "cell_type": "code",
   "execution_count": 4,
   "metadata": {},
   "outputs": [
    {
     "data": {
      "text/plain": [
       "2203"
      ]
     },
     "execution_count": 4,
     "metadata": {},
     "output_type": "execute_result"
    }
   ],
   "source": [
    "len(final_documents)"
   ]
  },
  {
   "cell_type": "code",
   "execution_count": 6,
   "metadata": {},
   "outputs": [
    {
     "name": "stderr",
     "output_type": "stream",
     "text": [
      "/home/ishan-pc/.local/lib/python3.10/site-packages/sentence_transformers/cross_encoder/CrossEncoder.py:11: TqdmExperimentalWarning: Using `tqdm.autonotebook.tqdm` in notebook mode. Use `tqdm.tqdm` instead to force console mode (e.g. in jupyter console)\n",
      "  from tqdm.autonotebook import tqdm, trange\n"
     ]
    },
    {
     "data": {
      "application/vnd.jupyter.widget-view+json": {
       "model_id": "fdc76137207c412cace4a4adb23e4568",
       "version_major": 2,
       "version_minor": 0
      },
      "text/plain": [
       "modules.json:   0%|          | 0.00/349 [00:00<?, ?B/s]"
      ]
     },
     "metadata": {},
     "output_type": "display_data"
    },
    {
     "data": {
      "application/vnd.jupyter.widget-view+json": {
       "model_id": "150e46be06be483c9a2f5edfc56714f2",
       "version_major": 2,
       "version_minor": 0
      },
      "text/plain": [
       "config_sentence_transformers.json:   0%|          | 0.00/124 [00:00<?, ?B/s]"
      ]
     },
     "metadata": {},
     "output_type": "display_data"
    },
    {
     "data": {
      "application/vnd.jupyter.widget-view+json": {
       "model_id": "53fad3df6fb24b91970ae956ad699061",
       "version_major": 2,
       "version_minor": 0
      },
      "text/plain": [
       "README.md:   0%|          | 0.00/94.8k [00:00<?, ?B/s]"
      ]
     },
     "metadata": {},
     "output_type": "display_data"
    },
    {
     "data": {
      "application/vnd.jupyter.widget-view+json": {
       "model_id": "d8af6a56ead14f0f99ee60c66a0e7f0e",
       "version_major": 2,
       "version_minor": 0
      },
      "text/plain": [
       "sentence_bert_config.json:   0%|          | 0.00/52.0 [00:00<?, ?B/s]"
      ]
     },
     "metadata": {},
     "output_type": "display_data"
    },
    {
     "data": {
      "application/vnd.jupyter.widget-view+json": {
       "model_id": "fe9dd015cd444dc08951eff4617c8e0b",
       "version_major": 2,
       "version_minor": 0
      },
      "text/plain": [
       "config.json:   0%|          | 0.00/743 [00:00<?, ?B/s]"
      ]
     },
     "metadata": {},
     "output_type": "display_data"
    },
    {
     "data": {
      "application/vnd.jupyter.widget-view+json": {
       "model_id": "18039abaa03f4decb90f146a887f3742",
       "version_major": 2,
       "version_minor": 0
      },
      "text/plain": [
       "model.safetensors:   0%|          | 0.00/133M [00:00<?, ?B/s]"
      ]
     },
     "metadata": {},
     "output_type": "display_data"
    },
    {
     "data": {
      "application/vnd.jupyter.widget-view+json": {
       "model_id": "abffc1c30aea401a834f89ce7bde6b97",
       "version_major": 2,
       "version_minor": 0
      },
      "text/plain": [
       "tokenizer_config.json:   0%|          | 0.00/366 [00:00<?, ?B/s]"
      ]
     },
     "metadata": {},
     "output_type": "display_data"
    },
    {
     "data": {
      "application/vnd.jupyter.widget-view+json": {
       "model_id": "6a18b08fd6e343ef9fb8f4e187446056",
       "version_major": 2,
       "version_minor": 0
      },
      "text/plain": [
       "vocab.txt:   0%|          | 0.00/232k [00:00<?, ?B/s]"
      ]
     },
     "metadata": {},
     "output_type": "display_data"
    },
    {
     "data": {
      "application/vnd.jupyter.widget-view+json": {
       "model_id": "d7d0ef6fa75344f29a8bc4b726503aeb",
       "version_major": 2,
       "version_minor": 0
      },
      "text/plain": [
       "tokenizer.json:   0%|          | 0.00/711k [00:00<?, ?B/s]"
      ]
     },
     "metadata": {},
     "output_type": "display_data"
    },
    {
     "data": {
      "application/vnd.jupyter.widget-view+json": {
       "model_id": "3e2b97ebf88141c38e541fc84911a099",
       "version_major": 2,
       "version_minor": 0
      },
      "text/plain": [
       "special_tokens_map.json:   0%|          | 0.00/125 [00:00<?, ?B/s]"
      ]
     },
     "metadata": {},
     "output_type": "display_data"
    },
    {
     "data": {
      "application/vnd.jupyter.widget-view+json": {
       "model_id": "24a4a77db5d34ebfb525375a39cfbea7",
       "version_major": 2,
       "version_minor": 0
      },
      "text/plain": [
       "1_Pooling/config.json:   0%|          | 0.00/190 [00:00<?, ?B/s]"
      ]
     },
     "metadata": {},
     "output_type": "display_data"
    }
   ],
   "source": [
    "huggingface_embeddings=HuggingFaceBgeEmbeddings(\n",
    "    model_name=\"BAAI/bge-small-en-v1.5\",      #sentence-transformers/all-MiniLM-l6-v2\n",
    "    model_kwargs={'device':'cpu'},\n",
    "    encode_kwargs={'normalize_embeddings':True}\n",
    "\n",
    ")"
   ]
  },
  {
   "cell_type": "code",
   "execution_count": 7,
   "metadata": {},
   "outputs": [
    {
     "data": {
      "text/plain": [
       "array([ 3.93988043e-02, -2.76699141e-02, -2.85103731e-02, -2.29603238e-02,\n",
       "        1.02063855e-02,  1.62729602e-02,  8.01556781e-02, -5.02493605e-02,\n",
       "       -8.18431005e-03, -2.20090803e-02,  3.81673202e-02, -5.31975739e-02,\n",
       "        5.70006631e-02, -3.04855481e-02,  1.18044922e-02, -1.17307920e-02,\n",
       "       -3.06915101e-02,  5.77208325e-02, -1.43016716e-02,  3.30924541e-02,\n",
       "        7.79223591e-02, -4.33087312e-02, -2.65444759e-02, -3.31120193e-02,\n",
       "        1.21094972e-01,  2.92268898e-02, -1.75611973e-02, -4.38110437e-03,\n",
       "       -4.60894555e-02, -1.14061683e-01,  2.00084951e-02,  2.73522362e-02,\n",
       "        3.56772579e-02,  4.98660840e-02, -3.61632067e-03,  2.37051379e-02,\n",
       "        2.86464058e-02,  5.82105219e-02,  9.29156202e-04,  3.95009816e-02,\n",
       "       -6.16278592e-03, -2.00785939e-02,  6.35809302e-02,  7.48454174e-03,\n",
       "       -3.84861082e-02,  3.51923667e-02,  8.79352167e-03,  2.77326498e-02,\n",
       "       -2.89892536e-02,  2.78242622e-02, -7.47808889e-02, -7.28348037e-03,\n",
       "       -4.43726033e-02,  6.22923858e-02,  1.67989742e-03, -3.21165957e-02,\n",
       "        7.25889057e-02, -4.09858897e-02,  2.77166702e-02,  2.35805884e-02,\n",
       "        3.88205051e-02, -7.67736044e-03, -1.63683772e-01,  2.57576834e-02,\n",
       "        9.11483020e-02,  8.75722691e-02, -1.85965793e-03, -1.73501838e-02,\n",
       "       -3.22813988e-02, -4.27909084e-02, -1.82795934e-02,  1.25485305e-02,\n",
       "       -2.38039382e-02,  4.06920426e-02, -2.33816523e-02, -5.33357225e-02,\n",
       "       -1.86041910e-02, -3.93405594e-02, -6.68271855e-02,  3.03089712e-02,\n",
       "       -3.83463390e-02,  4.95881066e-02, -1.29590195e-03,  5.36709949e-02,\n",
       "       -5.18009253e-02,  1.57513786e-02,  4.11938094e-02, -2.24698149e-02,\n",
       "        6.34550154e-02, -4.42936048e-02, -2.87378598e-02, -5.20936139e-02,\n",
       "       -4.76935171e-02, -5.36101963e-03, -5.70933428e-03, -4.28899191e-02,\n",
       "        2.58363578e-02, -5.77091165e-02, -2.74957381e-02,  3.37734163e-01,\n",
       "        1.03418250e-02,  1.47581950e-03,  5.53615950e-02, -5.57626039e-02,\n",
       "       -4.36057076e-02,  1.63970224e-03,  2.29284614e-02,  2.32689157e-02,\n",
       "       -4.14658859e-02,  3.69504988e-02, -3.05581149e-02, -1.12745557e-02,\n",
       "       -4.44816090e-02, -4.85838428e-02, -6.85940078e-03, -5.69123961e-02,\n",
       "        3.90973594e-03,  1.44963535e-02,  1.58787206e-01,  5.00909984e-02,\n",
       "       -9.72720236e-03,  5.11847734e-02,  2.61243079e-02,  1.07908773e-03,\n",
       "        2.25258265e-02,  2.85583129e-03,  6.60967976e-02,  1.02541387e-01,\n",
       "       -1.34533001e-02,  2.16877330e-02, -2.32804473e-02,  1.31396977e-02,\n",
       "       -4.24119011e-02,  4.25339825e-02,  3.51030268e-02,  3.74143943e-02,\n",
       "        1.46476822e-02,  4.43911888e-02,  3.86388302e-02,  2.41878368e-02,\n",
       "        3.32827941e-02,  1.55219445e-02, -8.67114663e-02, -4.15985733e-02,\n",
       "        7.80098885e-03,  1.51913553e-01,  6.31044339e-03,  6.26928359e-02,\n",
       "        3.50419991e-02,  4.31089662e-02, -6.01778040e-03,  3.66896726e-02,\n",
       "        2.47116014e-02, -7.30578974e-02, -8.66510731e-04,  4.26859260e-02,\n",
       "        4.75672111e-02, -5.60528636e-02, -1.03085376e-02, -7.97126517e-02,\n",
       "        1.43838776e-02, -4.60256040e-02, -8.42841640e-02,  8.25539380e-02,\n",
       "        4.93018217e-02, -6.08775206e-02, -5.01007996e-02, -6.52795518e-03,\n",
       "       -3.60373184e-02, -4.65776218e-04,  4.67580557e-02, -1.49121191e-02,\n",
       "       -9.62383226e-02, -4.45603812e-03,  5.57451099e-02, -2.11894233e-02,\n",
       "        4.18598428e-02,  9.95892212e-02, -2.56999047e-03,  1.91884208e-02,\n",
       "        5.08573651e-02, -6.77773878e-02, -9.16320160e-02, -5.94149940e-02,\n",
       "        7.14956410e-03,  9.13986471e-03, -6.48324192e-02, -6.46491069e-03,\n",
       "       -1.40640819e-02, -1.71107948e-02, -2.48781461e-02, -1.41592743e-02,\n",
       "       -4.41244021e-02,  2.51061618e-02, -7.04692909e-03,  2.16450600e-04,\n",
       "       -2.20382251e-02,  1.27585912e-02,  3.92686538e-02, -2.51283497e-02,\n",
       "       -2.33053081e-02,  2.91316546e-02,  4.57436666e-02,  1.44277737e-02,\n",
       "       -2.05173660e-02,  1.68067515e-02, -8.39356275e-04, -2.56414656e-02,\n",
       "        6.12934344e-02, -3.56289605e-03, -7.22882226e-02, -1.82230920e-02,\n",
       "        8.71850457e-03, -1.05242105e-02,  3.65358889e-02, -5.38771190e-02,\n",
       "        3.79600823e-02,  4.12724730e-05,  8.25153850e-03,  9.13806818e-03,\n",
       "       -5.87187447e-02, -8.27222392e-02, -3.63457273e-03, -2.49008670e-01,\n",
       "       -4.80598435e-02,  4.31299321e-02, -1.27320364e-02,  1.10332882e-02,\n",
       "       -5.59131429e-02, -3.45801488e-02, -1.09170338e-04, -8.64661559e-02,\n",
       "        2.21853927e-02,  7.03046471e-02, -5.90316467e-02, -4.57793437e-02,\n",
       "        4.37239520e-02, -7.25000584e-03, -1.55036785e-02, -1.14278952e-02,\n",
       "       -4.98954840e-02, -8.52495432e-02,  4.84344661e-02,  2.04000250e-02,\n",
       "        5.09687420e-03, -4.24535722e-02, -7.61776511e-03,  1.38366688e-02,\n",
       "        1.39948186e-02,  8.51165578e-02, -3.54844444e-02,  3.85626964e-03,\n",
       "       -6.38382211e-02,  2.71604341e-02,  1.26142621e-01,  2.86118098e-04,\n",
       "       -7.52931237e-02, -4.40062471e-02, -2.36462187e-02, -5.42048402e-02,\n",
       "        6.57587452e-03, -7.07701743e-02, -3.19221877e-02, -2.00089756e-02,\n",
       "        6.91526905e-02, -7.95654282e-02,  3.36013623e-02,  2.80741490e-02,\n",
       "       -3.11674904e-02, -6.45378605e-03,  2.69639343e-02,  2.61080917e-02,\n",
       "        2.42020339e-02, -1.84425842e-02,  2.03202991e-03,  1.08220587e-02,\n",
       "       -3.45047228e-02,  1.34250475e-02, -3.53885889e-02, -5.25699072e-02,\n",
       "       -3.95922437e-02, -2.32747141e-02, -2.18687262e-02,  7.20971674e-02,\n",
       "       -1.03471894e-02,  4.55744155e-02,  1.03011867e-02,  4.91037145e-02,\n",
       "       -3.48336101e-02, -4.75374386e-02,  1.59723368e-02, -3.23836543e-02,\n",
       "        4.28733882e-03,  6.60740910e-03,  6.99970499e-02, -1.99054703e-02,\n",
       "       -2.97682621e-02,  2.78511383e-02,  4.16497514e-02,  8.47022235e-02,\n",
       "       -9.78888012e-03, -1.77718885e-02, -8.05462711e-03, -1.33389086e-02,\n",
       "       -2.08557826e-02, -4.24242020e-03,  2.45937631e-02,  1.58531852e-02,\n",
       "        2.51349527e-02,  9.87407099e-03, -1.41547704e-02, -9.01152380e-03,\n",
       "        5.21984370e-03, -3.00952829e-02,  3.40328850e-02, -4.61345650e-02,\n",
       "       -6.95854872e-02, -4.97562066e-02, -3.62125388e-03, -2.34836966e-01,\n",
       "        3.61571275e-02,  2.83348691e-02,  3.11582200e-02,  5.35891913e-02,\n",
       "       -3.75487022e-02, -1.17977918e-03,  1.40282111e-02, -7.52783939e-02,\n",
       "        5.86881712e-02,  7.62649328e-02,  9.67606604e-02,  4.32904772e-02,\n",
       "       -1.53991915e-02,  4.79403622e-02, -3.50393504e-02,  9.93416905e-02,\n",
       "        5.40344268e-02,  2.54217722e-02,  1.89985754e-03,  1.89851336e-02,\n",
       "        3.57820280e-03,  1.68982476e-01, -1.88106056e-02, -3.23842727e-02,\n",
       "       -1.55017581e-02, -4.15018573e-02, -1.37018589e-02,  2.45964136e-02,\n",
       "       -4.33446746e-03,  3.92430313e-02,  5.14137521e-02,  8.20460469e-02,\n",
       "        1.03679458e-02, -5.44277951e-02,  1.17468517e-02,  2.09442470e-02,\n",
       "        2.48698369e-02,  2.92633157e-02,  2.91294768e-03, -4.12415564e-02,\n",
       "       -3.93324643e-02, -7.10017383e-02,  1.47326197e-02,  3.23840491e-02,\n",
       "       -1.71928965e-02,  6.72555016e-03, -1.18393220e-01, -1.79249998e-02,\n",
       "        2.93612629e-02, -8.15452915e-03, -3.18769142e-02, -1.28952581e-02,\n",
       "        3.89615484e-02,  3.44773941e-02, -5.35328351e-02, -4.06878553e-02,\n",
       "        6.18456751e-02,  5.25195822e-02,  2.19040532e-02, -4.11876515e-02,\n",
       "        4.49915156e-02, -6.11946695e-02, -3.52725387e-02,  1.75824631e-02])"
      ]
     },
     "execution_count": 7,
     "metadata": {},
     "output_type": "execute_result"
    }
   ],
   "source": [
    "import numpy as np \n",
    "np.array(huggingface_embeddings.embed_query(final_documents[0].page_content))"
   ]
  },
  {
   "cell_type": "code",
   "execution_count": 12,
   "metadata": {},
   "outputs": [],
   "source": [
    "vectorstore=FAISS.from_documents(final_documents[:120],huggingface_embeddings)"
   ]
  },
  {
   "cell_type": "code",
   "execution_count": 13,
   "metadata": {},
   "outputs": [
    {
     "name": "stdout",
     "output_type": "stream",
     "text": [
      "and deﬁnitions is available at <www.census.gov/acs>.\n"
     ]
    }
   ],
   "source": [
    "query=\"WHAT IS HEALTH INSURANCE COVERAGE?\"\n",
    "relevant_docments=vectorstore.similarity_search(query)\n",
    "\n",
    "print(relevant_docments[0].page_content)"
   ]
  },
  {
   "cell_type": "code",
   "execution_count": null,
   "metadata": {},
   "outputs": [],
   "source": []
  },
  {
   "cell_type": "code",
   "execution_count": null,
   "metadata": {},
   "outputs": [],
   "source": []
  }
 ],
 "metadata": {
  "kernelspec": {
   "display_name": "Python 3",
   "language": "python",
   "name": "python3"
  },
  "language_info": {
   "codemirror_mode": {
    "name": "ipython",
    "version": 3
   },
   "file_extension": ".py",
   "mimetype": "text/x-python",
   "name": "python",
   "nbconvert_exporter": "python",
   "pygments_lexer": "ipython3",
   "version": "3.10.12"
  }
 },
 "nbformat": 4,
 "nbformat_minor": 2
}
