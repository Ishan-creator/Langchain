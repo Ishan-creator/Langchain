{
  "cells": [
    {
      "cell_type": "code",
      "execution_count": 1,
      "metadata": {
        "colab": {
          "base_uri": "https://localhost:8080/"
        },
        "id": "Y0oIyKdvPxvi",
        "outputId": "1dc68ae2-08a4-4086-d6ca-7a3de071d33e"
      },
      "outputs": [
        {
          "name": "stdout",
          "output_type": "stream",
          "text": [
            "Defaulting to user installation because normal site-packages is not writeable\n",
            "Requirement already satisfied: langchain_community in /home/ishan-pc/.local/lib/python3.10/site-packages (0.2.1)\n",
            "Requirement already satisfied: tiktoken in /home/ishan-pc/.local/lib/python3.10/site-packages (0.7.0)\n",
            "Requirement already satisfied: langchain-openai in /home/ishan-pc/.local/lib/python3.10/site-packages (0.1.11)\n",
            "Requirement already satisfied: langchainhub in /home/ishan-pc/.local/lib/python3.10/site-packages (0.1.16)\n",
            "Requirement already satisfied: chromadb in /home/ishan-pc/.local/lib/python3.10/site-packages (0.5.0)\n",
            "Requirement already satisfied: langchain in /home/ishan-pc/.local/lib/python3.10/site-packages (0.2.1)\n",
            "Requirement already satisfied: PyYAML>=5.3 in /home/ishan-pc/.local/lib/python3.10/site-packages (from langchain_community) (6.0.1)\n",
            "Requirement already satisfied: langchain-core<0.3.0,>=0.2.0 in /home/ishan-pc/.local/lib/python3.10/site-packages (from langchain_community) (0.2.10)\n",
            "Requirement already satisfied: langsmith<0.2.0,>=0.1.0 in /home/ishan-pc/.local/lib/python3.10/site-packages (from langchain_community) (0.1.82)\n",
            "Requirement already satisfied: tenacity<9.0.0,>=8.1.0 in /home/ishan-pc/.local/lib/python3.10/site-packages (from langchain_community) (8.3.0)\n",
            "Requirement already satisfied: dataclasses-json<0.7,>=0.5.7 in /home/ishan-pc/.local/lib/python3.10/site-packages (from langchain_community) (0.6.6)\n",
            "Requirement already satisfied: SQLAlchemy<3,>=1.4 in /home/ishan-pc/.local/lib/python3.10/site-packages (from langchain_community) (2.0.30)\n",
            "Requirement already satisfied: requests<3,>=2 in /home/ishan-pc/.local/lib/python3.10/site-packages (from langchain_community) (2.31.0)\n",
            "Requirement already satisfied: numpy<2,>=1 in /home/ishan-pc/.local/lib/python3.10/site-packages (from langchain_community) (1.26.4)\n",
            "Requirement already satisfied: aiohttp<4.0.0,>=3.8.3 in /home/ishan-pc/.local/lib/python3.10/site-packages (from langchain_community) (3.9.5)\n",
            "Requirement already satisfied: regex>=2022.1.18 in /home/ishan-pc/.local/lib/python3.10/site-packages (from tiktoken) (2023.12.25)\n",
            "Requirement already satisfied: openai<2.0.0,>=1.32.0 in /home/ishan-pc/.local/lib/python3.10/site-packages (from langchain-openai) (1.35.7)\n",
            "Requirement already satisfied: types-requests<3.0.0.0,>=2.31.0.2 in /home/ishan-pc/.local/lib/python3.10/site-packages (from langchainhub) (2.32.0.20240523)\n",
            "Requirement already satisfied: fastapi>=0.95.2 in /home/ishan-pc/.local/lib/python3.10/site-packages (from chromadb) (0.111.0)\n",
            "Requirement already satisfied: pydantic>=1.9 in /home/ishan-pc/.local/lib/python3.10/site-packages (from chromadb) (2.6.4)\n",
            "Requirement already satisfied: opentelemetry-instrumentation-fastapi>=0.41b0 in /home/ishan-pc/.local/lib/python3.10/site-packages (from chromadb) (0.45b0)\n",
            "Requirement already satisfied: typer>=0.9.0 in /home/ishan-pc/.local/lib/python3.10/site-packages (from chromadb) (0.12.3)\n",
            "Requirement already satisfied: orjson>=3.9.12 in /home/ishan-pc/.local/lib/python3.10/site-packages (from chromadb) (3.10.3)\n",
            "Requirement already satisfied: uvicorn[standard]>=0.18.3 in /home/ishan-pc/.local/lib/python3.10/site-packages (from chromadb) (0.29.0)\n",
            "Requirement already satisfied: opentelemetry-api>=1.2.0 in /home/ishan-pc/.local/lib/python3.10/site-packages (from chromadb) (1.24.0)\n",
            "Requirement already satisfied: pypika>=0.48.9 in /home/ishan-pc/.local/lib/python3.10/site-packages (from chromadb) (0.48.9)\n",
            "Requirement already satisfied: tqdm>=4.65.0 in /home/ishan-pc/.local/lib/python3.10/site-packages (from chromadb) (4.66.2)\n",
            "Requirement already satisfied: opentelemetry-exporter-otlp-proto-grpc>=1.2.0 in /home/ishan-pc/.local/lib/python3.10/site-packages (from chromadb) (1.24.0)\n",
            "Requirement already satisfied: opentelemetry-sdk>=1.2.0 in /home/ishan-pc/.local/lib/python3.10/site-packages (from chromadb) (1.24.0)\n",
            "Requirement already satisfied: overrides>=7.3.1 in /home/ishan-pc/.local/lib/python3.10/site-packages (from chromadb) (7.7.0)\n",
            "Requirement already satisfied: tokenizers>=0.13.2 in /home/ishan-pc/.local/lib/python3.10/site-packages (from chromadb) (0.15.2)\n",
            "Requirement already satisfied: onnxruntime>=1.14.1 in /home/ishan-pc/.local/lib/python3.10/site-packages (from chromadb) (1.18.0)\n",
            "Requirement already satisfied: build>=1.0.3 in /home/ishan-pc/.local/lib/python3.10/site-packages (from chromadb) (1.2.1)\n",
            "Requirement already satisfied: importlib-resources in /home/ishan-pc/.local/lib/python3.10/site-packages (from chromadb) (6.4.0)\n",
            "Requirement already satisfied: bcrypt>=4.0.1 in /home/ishan-pc/.local/lib/python3.10/site-packages (from chromadb) (4.1.3)\n",
            "Requirement already satisfied: kubernetes>=28.1.0 in /home/ishan-pc/.local/lib/python3.10/site-packages (from chromadb) (29.0.0)\n",
            "Requirement already satisfied: grpcio>=1.58.0 in /home/ishan-pc/.local/lib/python3.10/site-packages (from chromadb) (1.64.0)\n",
            "Requirement already satisfied: posthog>=2.4.0 in /home/ishan-pc/.local/lib/python3.10/site-packages (from chromadb) (3.5.0)\n",
            "Requirement already satisfied: typing-extensions>=4.5.0 in /home/ishan-pc/.local/lib/python3.10/site-packages (from chromadb) (4.10.0)\n",
            "Requirement already satisfied: mmh3>=4.0.1 in /home/ishan-pc/.local/lib/python3.10/site-packages (from chromadb) (4.1.0)\n",
            "Requirement already satisfied: chroma-hnswlib==0.7.3 in /home/ishan-pc/.local/lib/python3.10/site-packages (from chromadb) (0.7.3)\n",
            "Requirement already satisfied: langchain-text-splitters<0.3.0,>=0.2.0 in /home/ishan-pc/.local/lib/python3.10/site-packages (from langchain) (0.2.0)\n",
            "Requirement already satisfied: async-timeout<5.0.0,>=4.0.0 in /home/ishan-pc/.local/lib/python3.10/site-packages (from langchain) (4.0.3)\n",
            "Requirement already satisfied: aiosignal>=1.1.2 in /home/ishan-pc/.local/lib/python3.10/site-packages (from aiohttp<4.0.0,>=3.8.3->langchain_community) (1.3.1)\n",
            "Requirement already satisfied: frozenlist>=1.1.1 in /home/ishan-pc/.local/lib/python3.10/site-packages (from aiohttp<4.0.0,>=3.8.3->langchain_community) (1.4.1)\n",
            "Requirement already satisfied: multidict<7.0,>=4.5 in /home/ishan-pc/.local/lib/python3.10/site-packages (from aiohttp<4.0.0,>=3.8.3->langchain_community) (6.0.5)\n",
            "Requirement already satisfied: yarl<2.0,>=1.0 in /home/ishan-pc/.local/lib/python3.10/site-packages (from aiohttp<4.0.0,>=3.8.3->langchain_community) (1.9.4)\n",
            "Requirement already satisfied: attrs>=17.3.0 in /home/ishan-pc/.local/lib/python3.10/site-packages (from aiohttp<4.0.0,>=3.8.3->langchain_community) (23.2.0)\n",
            "Requirement already satisfied: pyproject_hooks in /home/ishan-pc/.local/lib/python3.10/site-packages (from build>=1.0.3->chromadb) (1.1.0)\n",
            "Requirement already satisfied: packaging>=19.1 in /home/ishan-pc/.local/lib/python3.10/site-packages (from build>=1.0.3->chromadb) (23.2)\n",
            "Requirement already satisfied: tomli>=1.1.0 in /home/ishan-pc/.local/lib/python3.10/site-packages (from build>=1.0.3->chromadb) (2.0.1)\n",
            "Requirement already satisfied: marshmallow<4.0.0,>=3.18.0 in /home/ishan-pc/.local/lib/python3.10/site-packages (from dataclasses-json<0.7,>=0.5.7->langchain_community) (3.21.2)\n",
            "Requirement already satisfied: typing-inspect<1,>=0.4.0 in /home/ishan-pc/.local/lib/python3.10/site-packages (from dataclasses-json<0.7,>=0.5.7->langchain_community) (0.9.0)\n",
            "Requirement already satisfied: httpx>=0.23.0 in /home/ishan-pc/.local/lib/python3.10/site-packages (from fastapi>=0.95.2->chromadb) (0.27.0)\n",
            "Requirement already satisfied: python-multipart>=0.0.7 in /home/ishan-pc/.local/lib/python3.10/site-packages (from fastapi>=0.95.2->chromadb) (0.0.9)\n",
            "Requirement already satisfied: starlette<0.38.0,>=0.37.2 in /home/ishan-pc/.local/lib/python3.10/site-packages (from fastapi>=0.95.2->chromadb) (0.37.2)\n",
            "Requirement already satisfied: jinja2>=2.11.2 in /home/ishan-pc/.local/lib/python3.10/site-packages (from fastapi>=0.95.2->chromadb) (3.0.3)\n",
            "Requirement already satisfied: fastapi-cli>=0.0.2 in /home/ishan-pc/.local/lib/python3.10/site-packages (from fastapi>=0.95.2->chromadb) (0.0.4)\n",
            "Requirement already satisfied: email_validator>=2.0.0 in /home/ishan-pc/.local/lib/python3.10/site-packages (from fastapi>=0.95.2->chromadb) (2.1.1)\n",
            "Requirement already satisfied: ujson!=4.0.2,!=4.1.0,!=4.2.0,!=4.3.0,!=5.0.0,!=5.1.0,>=4.0.1 in /home/ishan-pc/.local/lib/python3.10/site-packages (from fastapi>=0.95.2->chromadb) (5.10.0)\n",
            "Requirement already satisfied: google-auth>=1.0.1 in /home/ishan-pc/.local/lib/python3.10/site-packages (from kubernetes>=28.1.0->chromadb) (2.29.0)\n",
            "Requirement already satisfied: websocket-client!=0.40.0,!=0.41.*,!=0.42.*,>=0.32.0 in /home/ishan-pc/.local/lib/python3.10/site-packages (from kubernetes>=28.1.0->chromadb) (1.7.0)\n",
            "Requirement already satisfied: urllib3>=1.24.2 in /home/ishan-pc/.local/lib/python3.10/site-packages (from kubernetes>=28.1.0->chromadb) (2.2.1)\n",
            "Requirement already satisfied: certifi>=14.05.14 in /usr/lib/python3/dist-packages (from kubernetes>=28.1.0->chromadb) (2020.6.20)\n",
            "Requirement already satisfied: oauthlib>=3.2.2 in /home/ishan-pc/.local/lib/python3.10/site-packages (from kubernetes>=28.1.0->chromadb) (3.2.2)\n",
            "Requirement already satisfied: six>=1.9.0 in /usr/lib/python3/dist-packages (from kubernetes>=28.1.0->chromadb) (1.16.0)\n",
            "Requirement already satisfied: python-dateutil>=2.5.3 in /home/ishan-pc/.local/lib/python3.10/site-packages (from kubernetes>=28.1.0->chromadb) (2.8.2)\n",
            "Requirement already satisfied: requests-oauthlib in /home/ishan-pc/.local/lib/python3.10/site-packages (from kubernetes>=28.1.0->chromadb) (2.0.0)\n",
            "Requirement already satisfied: jsonpatch<2.0,>=1.33 in /home/ishan-pc/.local/lib/python3.10/site-packages (from langchain-core<0.3.0,>=0.2.0->langchain_community) (1.33)\n",
            "Requirement already satisfied: flatbuffers in /home/ishan-pc/.local/lib/python3.10/site-packages (from onnxruntime>=1.14.1->chromadb) (24.3.25)\n",
            "Requirement already satisfied: sympy in /home/ishan-pc/.local/lib/python3.10/site-packages (from onnxruntime>=1.14.1->chromadb) (1.12)\n",
            "Requirement already satisfied: coloredlogs in /home/ishan-pc/.local/lib/python3.10/site-packages (from onnxruntime>=1.14.1->chromadb) (15.0.1)\n",
            "Requirement already satisfied: protobuf in /home/ishan-pc/.local/lib/python3.10/site-packages (from onnxruntime>=1.14.1->chromadb) (4.25.3)\n",
            "Requirement already satisfied: anyio<5,>=3.5.0 in /home/ishan-pc/.local/lib/python3.10/site-packages (from openai<2.0.0,>=1.32.0->langchain-openai) (4.3.0)\n",
            "Requirement already satisfied: sniffio in /home/ishan-pc/.local/lib/python3.10/site-packages (from openai<2.0.0,>=1.32.0->langchain-openai) (1.3.1)\n",
            "Requirement already satisfied: distro<2,>=1.7.0 in /usr/lib/python3/dist-packages (from openai<2.0.0,>=1.32.0->langchain-openai) (1.7.0)\n",
            "Requirement already satisfied: deprecated>=1.2.6 in /home/ishan-pc/.local/lib/python3.10/site-packages (from opentelemetry-api>=1.2.0->chromadb) (1.2.14)\n",
            "Requirement already satisfied: importlib-metadata<=7.0,>=6.0 in /home/ishan-pc/.local/lib/python3.10/site-packages (from opentelemetry-api>=1.2.0->chromadb) (7.0.0)\n",
            "Requirement already satisfied: googleapis-common-protos~=1.52 in /home/ishan-pc/.local/lib/python3.10/site-packages (from opentelemetry-exporter-otlp-proto-grpc>=1.2.0->chromadb) (1.63.0)\n",
            "Requirement already satisfied: opentelemetry-exporter-otlp-proto-common==1.24.0 in /home/ishan-pc/.local/lib/python3.10/site-packages (from opentelemetry-exporter-otlp-proto-grpc>=1.2.0->chromadb) (1.24.0)\n",
            "Requirement already satisfied: opentelemetry-proto==1.24.0 in /home/ishan-pc/.local/lib/python3.10/site-packages (from opentelemetry-exporter-otlp-proto-grpc>=1.2.0->chromadb) (1.24.0)\n",
            "Requirement already satisfied: opentelemetry-util-http==0.45b0 in /home/ishan-pc/.local/lib/python3.10/site-packages (from opentelemetry-instrumentation-fastapi>=0.41b0->chromadb) (0.45b0)\n",
            "Requirement already satisfied: opentelemetry-instrumentation==0.45b0 in /home/ishan-pc/.local/lib/python3.10/site-packages (from opentelemetry-instrumentation-fastapi>=0.41b0->chromadb) (0.45b0)\n",
            "Requirement already satisfied: opentelemetry-instrumentation-asgi==0.45b0 in /home/ishan-pc/.local/lib/python3.10/site-packages (from opentelemetry-instrumentation-fastapi>=0.41b0->chromadb) (0.45b0)\n",
            "Requirement already satisfied: opentelemetry-semantic-conventions==0.45b0 in /home/ishan-pc/.local/lib/python3.10/site-packages (from opentelemetry-instrumentation-fastapi>=0.41b0->chromadb) (0.45b0)\n",
            "Requirement already satisfied: wrapt<2.0.0,>=1.0.0 in /home/ishan-pc/.local/lib/python3.10/site-packages (from opentelemetry-instrumentation==0.45b0->opentelemetry-instrumentation-fastapi>=0.41b0->chromadb) (1.16.0)\n",
            "Requirement already satisfied: setuptools>=16.0 in /usr/lib/python3/dist-packages (from opentelemetry-instrumentation==0.45b0->opentelemetry-instrumentation-fastapi>=0.41b0->chromadb) (59.6.0)\n",
            "Requirement already satisfied: asgiref~=3.0 in /usr/lib/python3/dist-packages (from opentelemetry-instrumentation-asgi==0.45b0->opentelemetry-instrumentation-fastapi>=0.41b0->chromadb) (3.5.0)\n",
            "Requirement already satisfied: monotonic>=1.5 in /usr/lib/python3/dist-packages (from posthog>=2.4.0->chromadb) (1.6)\n",
            "Requirement already satisfied: backoff>=1.10.0 in /home/ishan-pc/.local/lib/python3.10/site-packages (from posthog>=2.4.0->chromadb) (2.2.1)\n",
            "Requirement already satisfied: annotated-types>=0.4.0 in /home/ishan-pc/.local/lib/python3.10/site-packages (from pydantic>=1.9->chromadb) (0.6.0)\n",
            "Requirement already satisfied: pydantic-core==2.16.3 in /home/ishan-pc/.local/lib/python3.10/site-packages (from pydantic>=1.9->chromadb) (2.16.3)\n",
            "Requirement already satisfied: idna<4,>=2.5 in /usr/lib/python3/dist-packages (from requests<3,>=2->langchain_community) (3.3)\n",
            "Requirement already satisfied: charset-normalizer<4,>=2 in /home/ishan-pc/.local/lib/python3.10/site-packages (from requests<3,>=2->langchain_community) (3.3.2)\n",
            "Requirement already satisfied: greenlet!=0.4.17 in /home/ishan-pc/.local/lib/python3.10/site-packages (from SQLAlchemy<3,>=1.4->langchain_community) (3.0.3)\n",
            "Requirement already satisfied: huggingface_hub<1.0,>=0.16.4 in /home/ishan-pc/.local/lib/python3.10/site-packages (from tokenizers>=0.13.2->chromadb) (0.22.2)\n",
            "Requirement already satisfied: click>=8.0.0 in /usr/lib/python3/dist-packages (from typer>=0.9.0->chromadb) (8.0.3)\n",
            "Requirement already satisfied: shellingham>=1.3.0 in /home/ishan-pc/.local/lib/python3.10/site-packages (from typer>=0.9.0->chromadb) (1.5.4)\n",
            "Requirement already satisfied: rich>=10.11.0 in /home/ishan-pc/.local/lib/python3.10/site-packages (from typer>=0.9.0->chromadb) (13.7.1)\n",
            "Requirement already satisfied: h11>=0.8 in /home/ishan-pc/.local/lib/python3.10/site-packages (from uvicorn[standard]>=0.18.3->chromadb) (0.14.0)\n",
            "Requirement already satisfied: python-dotenv>=0.13 in /home/ishan-pc/.local/lib/python3.10/site-packages (from uvicorn[standard]>=0.18.3->chromadb) (1.0.1)\n",
            "Requirement already satisfied: httptools>=0.5.0 in /home/ishan-pc/.local/lib/python3.10/site-packages (from uvicorn[standard]>=0.18.3->chromadb) (0.6.1)\n",
            "Requirement already satisfied: watchfiles>=0.13 in /home/ishan-pc/.local/lib/python3.10/site-packages (from uvicorn[standard]>=0.18.3->chromadb) (0.21.0)\n",
            "Requirement already satisfied: uvloop!=0.15.0,!=0.15.1,>=0.14.0 in /home/ishan-pc/.local/lib/python3.10/site-packages (from uvicorn[standard]>=0.18.3->chromadb) (0.19.0)\n",
            "Requirement already satisfied: websockets>=10.4 in /home/ishan-pc/.local/lib/python3.10/site-packages (from uvicorn[standard]>=0.18.3->chromadb) (12.0)\n",
            "Requirement already satisfied: exceptiongroup>=1.0.2 in /home/ishan-pc/.local/lib/python3.10/site-packages (from anyio<5,>=3.5.0->openai<2.0.0,>=1.32.0->langchain-openai) (1.2.0)\n",
            "Requirement already satisfied: dnspython>=2.0.0 in /home/ishan-pc/.local/lib/python3.10/site-packages (from email_validator>=2.0.0->fastapi>=0.95.2->chromadb) (2.6.1)\n",
            "Requirement already satisfied: cachetools<6.0,>=2.0.0 in /home/ishan-pc/.local/lib/python3.10/site-packages (from google-auth>=1.0.1->kubernetes>=28.1.0->chromadb) (5.3.3)\n",
            "Requirement already satisfied: pyasn1-modules>=0.2.1 in /home/ishan-pc/.local/lib/python3.10/site-packages (from google-auth>=1.0.1->kubernetes>=28.1.0->chromadb) (0.4.0)\n",
            "Requirement already satisfied: rsa<5,>=3.1.4 in /home/ishan-pc/.local/lib/python3.10/site-packages (from google-auth>=1.0.1->kubernetes>=28.1.0->chromadb) (4.9)\n",
            "Requirement already satisfied: httpcore==1.* in /home/ishan-pc/.local/lib/python3.10/site-packages (from httpx>=0.23.0->fastapi>=0.95.2->chromadb) (1.0.5)\n",
            "Requirement already satisfied: filelock in /usr/lib/python3/dist-packages (from huggingface_hub<1.0,>=0.16.4->tokenizers>=0.13.2->chromadb) (3.6.0)\n",
            "Requirement already satisfied: fsspec>=2023.5.0 in /home/ishan-pc/.local/lib/python3.10/site-packages (from huggingface_hub<1.0,>=0.16.4->tokenizers>=0.13.2->chromadb) (2024.3.1)\n",
            "Requirement already satisfied: zipp>=0.5 in /usr/lib/python3/dist-packages (from importlib-metadata<=7.0,>=6.0->opentelemetry-api>=1.2.0->chromadb) (1.0.0)\n",
            "Requirement already satisfied: MarkupSafe>=2.0 in /home/ishan-pc/.local/lib/python3.10/site-packages (from jinja2>=2.11.2->fastapi>=0.95.2->chromadb) (2.1.5)\n",
            "Requirement already satisfied: jsonpointer>=1.9 in /home/ishan-pc/.local/lib/python3.10/site-packages (from jsonpatch<2.0,>=1.33->langchain-core<0.3.0,>=0.2.0->langchain_community) (2.4)\n",
            "Requirement already satisfied: pygments<3.0.0,>=2.13.0 in /home/ishan-pc/.local/lib/python3.10/site-packages (from rich>=10.11.0->typer>=0.9.0->chromadb) (2.17.2)\n",
            "Requirement already satisfied: markdown-it-py>=2.2.0 in /home/ishan-pc/.local/lib/python3.10/site-packages (from rich>=10.11.0->typer>=0.9.0->chromadb) (3.0.0)\n",
            "Requirement already satisfied: mypy-extensions>=0.3.0 in /home/ishan-pc/.local/lib/python3.10/site-packages (from typing-inspect<1,>=0.4.0->dataclasses-json<0.7,>=0.5.7->langchain_community) (1.0.0)\n",
            "Requirement already satisfied: humanfriendly>=9.1 in /home/ishan-pc/.local/lib/python3.10/site-packages (from coloredlogs->onnxruntime>=1.14.1->chromadb) (10.0)\n",
            "Requirement already satisfied: mpmath>=0.19 in /home/ishan-pc/.local/lib/python3.10/site-packages (from sympy->onnxruntime>=1.14.1->chromadb) (1.3.0)\n",
            "Requirement already satisfied: mdurl~=0.1 in /home/ishan-pc/.local/lib/python3.10/site-packages (from markdown-it-py>=2.2.0->rich>=10.11.0->typer>=0.9.0->chromadb) (0.1.2)\n",
            "Requirement already satisfied: pyasn1<0.7.0,>=0.4.6 in /home/ishan-pc/.local/lib/python3.10/site-packages (from pyasn1-modules>=0.2.1->google-auth>=1.0.1->kubernetes>=28.1.0->chromadb) (0.6.0)\n"
          ]
        }
      ],
      "source": [
        "! pip install langchain_community tiktoken langchain-openai langchainhub chromadb langchain"
      ]
    },
    {
      "cell_type": "code",
      "execution_count": null,
      "metadata": {
        "id": "EurZa_OlRa2d"
      },
      "outputs": [],
      "source": []
    },
    {
      "cell_type": "code",
      "execution_count": 21,
      "metadata": {
        "colab": {
          "base_uri": "https://localhost:8080/"
        },
        "id": "dRuuOlV6QwZa",
        "outputId": "85203462-c164-423f-b517-c878a379cd0b"
      },
      "outputs": [],
      "source": [
        "import bs4\n",
        "from langchain import hub\n",
        "from langchain.text_splitter import  RecursiveCharacterTextSplitter\n",
        "from langchain.embeddings import OllamaEmbeddings\n",
        "from langchain_community.document_loaders import WebBaseLoader\n",
        "from langchain.vectorstores import Chroma\n",
        "from langchain_core.output_parsers import StrOutputParser\n",
        "from langchain_core.runnables import RunnablePassthrough\n",
        "from langchain.llms import Ollama"
      ]
    },
    {
      "cell_type": "code",
      "execution_count": 10,
      "metadata": {
        "id": "wVGMJK4XRTbM"
      },
      "outputs": [],
      "source": [
        "loader = WebBaseLoader(\n",
        "    web_paths = (\"https://whc.unesco.org/en/list/120/\",),\n",
        "    bs_kwargs = dict(\n",
        "        parse_only= bs4.SoupStrainer(\n",
        "            class_ = (\"col-12 col-lg-8 mb-4 mb-lg-0\")\n",
        "        )\n",
        "    ),\n",
        ")"
      ]
    },
    {
      "cell_type": "code",
      "execution_count": 11,
      "metadata": {
        "id": "YZmhiHE0TGmE"
      },
      "outputs": [],
      "source": [
        "docs = loader.load()"
      ]
    },
    {
      "cell_type": "code",
      "execution_count": 12,
      "metadata": {},
      "outputs": [
        {
          "data": {
            "text/plain": [
              "[Document(page_content=\"\\n\\n\\n\\n\\n Sagarmatha National Park\\nSagarmatha is an exceptional area with dramatic mountains, glaciers and deep valleys, dominated by Mount Everest, the highest peak in the world (8,848 m). Several rare species, such as the snow leopard and the lesser panda, are found in the park. The presence of the Sherpas, with their unique culture, adds further interest to this site.\\nDescription is available under license CC-BY-SA IGO 3.0\\n\\n\\n\\n Parc national de Sagarmatha\\nDans un paysage de montagnes grandioses où culmine le plus haut sommet du monde, l'Everest (8 848 m), de glaciers et de vallées profondes, le parc abrite des espèces rares, comme le léopard des neiges et le petit panda. La présence des Sherpas, qui y ont développé une culture originale, ajoute à l'intérêt du site.\\nDescription is available under license CC-BY-SA IGO 3.0\\n\\n\\n\\nمنتزه ساغارماتا الوطني\\nيقع هذا المنتزه في طبيعةٍ تتألَّف من جبالٍ عظيمةٍ حيث تطل أعلى القمم في العالم، قمة الايفيرست (8848 م)، ومن جبال جليدية ووديان عميقة. كما يأوي المنتزه فصائلَ نادرةً، مثل فهد الثلج والباندا الصغير. أما وجود الشيرباز الذين طوروا ثقافةً مميزةً في هذا الموقع، فيُضفي أهمية كبيرة عليه.\\n\\r\\n\\t\\t\\t\\t\\t\\t\\t\\t\\t\\t\\tsource: UNESCO/CPE\\r\\n\\t\\t\\t\\t\\t\\t\\t\\t\\t\\t\\tDescription is available under license CC-BY-SA IGO 3.0\\n\\n\\n\\n萨加玛塔国家公园\\n萨加玛塔是一个特别的地区，全区遍布形态各异的山脉、冰河和深谷。主要山脉珠穆朗玛峰，即世界最高峰，海拔8848米。公园里有许多稀有物种，例如雪豹和小熊猫。而舍帕斯部落的独特文化更使这一国家公园增加了魅力。\\n\\r\\n\\t\\t\\t\\t\\t\\t\\t\\t\\t\\t\\tsource: UNESCO/CPE\\r\\n\\t\\t\\t\\t\\t\\t\\t\\t\\t\\t\\tDescription is available under license CC-BY-SA IGO 3.0\\n\\n\\n\\nНациональный парк Сагарматха (район горы Эверест) \\nСагарматха – это выдающийся природный ландшафт, включающий высокогорья, ледники и глубокие ущелья, над которыми доминирует высочайшая вершина мира – гора Эверест (8848 м). В парке обитают несколько редких видов животных, включая снежного барса и малую панду. Уникальная культура местного населения – шерпов – также привлекает внимание к этой местности.\\n\\r\\n\\t\\t\\t\\t\\t\\t\\t\\t\\t\\t\\tsource: UNESCO/CPE\\r\\n\\t\\t\\t\\t\\t\\t\\t\\t\\t\\t\\tDescription is available under license CC-BY-SA IGO 3.0\\n\\n\\n\\nParque Nacional de Sagarmatha\\nEn un paisaje de glaciares, valles profundos y macizos montañosos grandiosos rematados por el pico más alto del mundo, el Everest (8.848 metros), este parque alberga especies animales raras como el leopardo de las nieves y el panda enano. La presencia de la etnia sherpa, creadora de una cultura única en su género, añade interés al sitio.\\n\\r\\n\\t\\t\\t\\t\\t\\t\\t\\t\\t\\t\\tsource: UNESCO/CPE\\r\\n\\t\\t\\t\\t\\t\\t\\t\\t\\t\\t\\tDescription is available under license CC-BY-SA IGO 3.0\\n\\n\\n\\nサガルマータ国立公園\\r\\n\\t\\t\\t\\t\\t\\t\\t\\t\\t\\t世界最高峰のサガルマータ(エベレスト山)をはじめ、標高7000ｍ以上の高山群を含む国立公園。ヒマラヤグマやユキヒョウなどの大型動物や、いろいろな鳥やチョウなど、貴重な野生動物が生息している。サガルマータとは｢世界の頂上｣を意味している。\\r\\n\\t\\t\\t\\t\\t\\t\\t\\t\\t\\tsource: NFUAJ\\n\\n\\n\\nNationaal park Sagarmatha\\nSagarmatha is een uitzonderlijk gebied met indrukwekkende bergen, gletsjers en diepe valleien, gedomineerd door de Mount Everest, de hoogste bergtop ter wereld (8.848 meter). Het gebied is 124.000 hectare groot en herbergt zeldzame diersoorten, zoals het sneeuwluipaard en de kleine panda. De aanwezigheid van de sherpa’s – met hun unieke cultuur – geeft extra waarde aan dit gebied. Het nationaal park is een populaire bestemming voor bergtoerisme. Het toenemende aantal toeristen in het gebied – van 3.600 bezoekers in 1979 tot meer dan 25.000 in 2010 – geeft een enorme impuls aan de lokale economie.\\nSource: unesco.nl\\n\\n\\n\\n\\n\\nEnglish\\nFrench\\nArabic\\nChinese\\nRussian\\nSpanish\\nJapanese\\nDutch\\n\\n\\n\\n\\n\\n\\n\\n\\n\\n\\n\\n\\n\\n\\n\\n\\n\\n\\nOutstanding Universal Value\\nBrief synthesis \\nIncluding the highest point on the Earth’s Surface, Mount Sagarmatha (Everest; 8,848 m) and an elevation range of 6,000 m Sagarmatha National Park (SNP) covers an area of 124,400 hectares in the Solu-Khumbu district of Nepal. An exceptional area with dramatic mountains, glaciers, deep valleys and seven peaks other than Mount Sagarmatha over 7,000 m the park is home to several rare species such as the snow leopard and the red panda. A well-known destination for mountain tourism SNP was gazetted in 1976 and with over 2,500 Sherpa people living within the park has combined nature and culture since its inception.\\xa0\\nEncompassing the infinitely majestic snow capped peaks of the Great Himalayan Range, the chain of mountains including the world’s highest Mt. Sagarmatha (Everest) and extensive Sherpa settlements that embody the openness of SNP to the rest of the world. The carefully preserved natural heritage and the dramatic beauty of the high, geologically young mountains and glaciers were recognized by UNESCO with the inscription of the park as a world heritage site in 1979. The property hosts over 20 villages with over 6000 Sherpas who have inhabited the region for the last four centuries. Continuing their traditional practice of cultural and religion including the restriction of animal hunting and slaughtering, and reverence of all living beings. These practices combined with indigenous natural resource management practices, have been major contributing factors to the successful conservation of the SNP.\\xa0\\nThe constantly increasing numbers of tourists visiting the property, 3,600 visitors in 1979 to over 25000 in 2010, has immensely boosted the local economy and standard of living with better health, education, and infrastructure facilities. One initiative of SNP has been to implement a buffer zone (BZ) program to enhance protection and management of the property and was motivated by a desire to enhance conservation in combination with improved socio-economic status of the local communities through a revenue plough back system.\\xa0The SNP area is also the major source of glaciers, providing freshwater-based benefits for the people downstream. In addition to conservation of the values of the property a priority of the park is to monitor the impacts of global warming and climate change on flora, fauna and Sherpa communities.\\xa0Criteria (vii): Sagarmatha National Parks’ superlative and exceptional natural beauty is embedded in the dramatic mountains, glaciers, deep valleys and majestic peaks including the Worlds’ highest, Mount Sagarmatha (Everest) (8,848 m.). The area is home to several rare species such as the snow leopard and the red panda. The area represents a major stage of the Earth’s evolutionary history and is one of the most geologically interesting regions in the world with high, geologically young mountains and glaciers creating awe inspiring landscapes and scenery dominated by the high peaks and corresponding deeply-incised valleys. This park contains the world’s highest ecologically characteristic flora and fauna, intricately blended with the rich Sherpa culture. The intricate linkages of the Sherpa culture with the ecosystem are a major highlight of the park and they form the basis for the sustainable protection and management of the park for the benefit of the local communities.\\xa0\\nIntegrity \\nEncompassing the upper catchment of the Dudh Kosi River system the boundaries of the property ensure the integrity of its values. The property’s Northern boundary is defined by the main divide of the Great Himalayan Range, which follows the International boundary between Nepal and the Tibetan Autonomous Region of the People’s Republic of China. The other boundaries are demarked by physical divisions encompassing discrete physical entities in the Khumbu region with the southern boundary extending almost as far as Monjo on the Dudh Kosi River.\\nThe property’s integrity is enhanced by the designation of a buffer zone that is not part of the inscribed property. The buffer zone to the south of the property was designated in 2002 and serves as a protective layer to the park. The involvement of local communities in the buffer zone management practices is an additional asset for the park sustainability.\\nThe protective designation of the park has been further increased with the establishment of the Makalu Barun National Park (1998) in the eastern region of the property and Gauri Shankar Conservation Area (2010) in the west. These additional sites, combined with the attachment of SNP’s northern region with Qomolongma Nature Reserve in the Tibetan Autonomous Region of the People’s Republic of China have added further protection to the values of the property .\\xa0\\nThe primarily Tibetan Buddhist Sherpas who live within the park carry out primarily agricultural or trade based activities and to ensure limited impact on the values and integrity of the property their properties have been excluded from the park by legal definition. An active protection and management program, focusing on the mountain landscape, called Sacred Himalayan Landscape (SHL), covers the regions from Kanchanjonga Conservation Area in the east to Langtang National Park in the west has been implemented by the government.\\xa0The SHL incorporates both conservation and management practices with a focus on involvement of local communities.\\nThe conservation oriented Sherpa culture is the backbone for the conservation of biodiversity in the Khumbu region.\\xa0Despite the comparatively small area of the park, the surrounding landscape is adequate to ensure sustainable management of the SNP.\\xa0The declaration of the high altitude Gokyo Lake as a RAMSAR site in 2007 is additional recognition of the value addition of the area and re-colonization of snow leopards within the property\\xa0 is an indication of habitat suitability for both prey and predator species.\\nProtection and management requirements \\nSagarmatha National Park was established on July 19, 1976 under the National Parks and Wildlife Conservation Act and is managed by the National Park and Wildlife Conservation Office, Department of National Parks and Wildlife Conservation, Ministry of Forests., Government of Nepal. Effective legal protection remains in place under the National Park and Wildlife Protection Act 1973 and the Himalayan National Park Regulations 1978.\\xa0Most of the park (69%) comprises barren land above 5,000m with 28% being grazing land and nearly 3% forested, this combined with the resident Sherpa population, who are reliant on subsistence agro-pastoralism provides a number of management challenges.\\nIn addition to the staff from the Sagarmatha National Parks Office, a company of soldiers from the Nepalese Army has been deployed for protection and law enforcement purposes. The Government of Nepal provides a regular budget for the management and protection of the property and buffer zone. \\xa0Furthermore, the Government has been providing 50% of the park’s revenue to the local communities through the buffer zone Integrated Conservation and Development Programme (ICDP) and its related activities based on the approved Management Plan.\\nThe Management Plan (2007 – 2012) for the property and the buffer zone has been approved by the Government of Nepal and is managed and implemented by a team of professional staff under the Department of National Parks and Wildlife Conservation. The Government continues to implement the Management Plan, however, additional efforts are needed to minimize the impact of a number of issues prevalent at\\xa0 the property , namely to address tourism management issues affecting the values of the property\\xa0 and the promotion of sustainable use of natural resources within the park and minimizing environmental pollution.\\nConstant involvement and support of local communities in the field of conservation and management, subsequent to the implementation of buffer zone program, has been a fortifying milestone for the management of SNP. A Park Advisory Committee, consisting of local leaders, village elders, head lamas and park authority representatives has been instrumental in achieving more cooperation and support for the park. In addition, there are many national and international conservation partners that regularly assist in park and buffer zone management activities and conduct research. Buffer Zone Management Committees, User Committees and User Groups work as additional tools for the sustainable management of the park and buffer zone resources.\\nDramatic increases in the number of annual visitors has stimulated the local economy but has also brought an increase in the degradation of the region’s fragile ecology and cultural traditions. Construction of illegal trails, resort development, energy demand and supply, assessment of impacts from tourism and tourism carrying capacity are issues that remain important in the management of the property despite recent success working with local communities and stakeholders to halt a number of development projects, including the extension of the Sanboche airport. Proper garbage disposal is one of the principal obstacles faced by the park in spite of the efforts of Sagarmatha Pollution Control Committee, a\\xa0community based NGO based in Namche Bazar with active involvement in pollution control. The NGO with support from other line agencies and pooled with the coordination of park authorities and relevant stakeholders continue to attempt to address this issue. Likewise, with growing tourism activities, the demand for new hotels and lodges is inevitable and the property remains vulnerable to encroachment and requires enforcement of park management policies to protect endangered habitats and species within the property boundaries. In order to respond to the increasing pressure from tourism and related activities it has become necessary to upgrade the existing park organizational structure.\\nDegradation of the fragile mountain forest ecosystem due to\\xa0a constant and increasing demand for firewood also remains an important issue at the property, despite the mitigating impacts of the few operational micro-hydro projects as an alternative to firewood.\\n\\n\\n\\n\\r\\n\\t\\t\\t\\t\\t\\tLinks \\r\\n\\t\\t\\t\\t\\t\\n\\n\\n\\r\\n\\t\\t\\t\\t\\t\\t\\t\\t\\t\\t\\tOfficial website page\\n\\n\\n\\n\\r\\n\\t\\t\\t\\t\\t\\t\\t\\t\\t\\t\\tProtectedplanet.net\\n\\n\\n\\n\\n\\nActivities 1\\n\\n\\n\\n\\n\\n\\n\\n\\n\\nCase Studies on Climate Change and World Heritage\\n\\n\\n\\n\\n\\n\\n\\nNews  4\\n\\n\\n\\n\\n\\n\\n\\n\\n\\nDirector-General Signs Condolences Book for Nepal\\n\\n7 May 2015\\n\\n\\n\\n\\n\\n\\n\\n\\n\\n\\n\\n\\nUNESCO to assess the impact on Nepal’s cultural heritage of the devastating earthquake\\n\\n27 April 2015\\n\\n\\n\\n\\n\\n\\n\\n\\n\\n\\n\\n\\nUNESCO Director General expresses distress after earthquake in Nepal\\n\\n25 April 2015\\n\\n\\n\\n\\n\\n\\n\\n\\n\\n\\n\\n\\nClimate change threatens UNESCO World Heritage sites\\n\\n10 April 2007\\n\\n\\n\\n\\n\\n\\n\\n\\n\\nMedia\\n\\nplay_arrow Sagarmatha National Park (UNESCO/NHK)\\n\\n\\n\\n\", metadata={'source': 'https://whc.unesco.org/en/list/120/'})]"
            ]
          },
          "execution_count": 12,
          "metadata": {},
          "output_type": "execute_result"
        }
      ],
      "source": [
        "docs"
      ]
    },
    {
      "cell_type": "code",
      "execution_count": 13,
      "metadata": {
        "id": "5ETcZaIeTdGK"
      },
      "outputs": [],
      "source": [
        "text_splitter = RecursiveCharacterTextSplitter(\n",
        "    chunk_size = 100,\n",
        "    chunk_overlap = 20\n",
        ")\n",
        "splits = text_splitter.split_documents(docs)"
      ]
    },
    {
      "cell_type": "code",
      "execution_count": 14,
      "metadata": {
        "id": "5J5-pg3lTr1f"
      },
      "outputs": [],
      "source": [
        "embeddings = OllamaEmbeddings(model = \"llama2\")"
      ]
    },
    {
      "cell_type": "code",
      "execution_count": 15,
      "metadata": {
        "colab": {
          "base_uri": "https://localhost:8080/"
        },
        "id": "LwvvlpzhVkoN",
        "outputId": "96702803-3cd4-4434-bdbb-21e3953bc69f"
      },
      "outputs": [
        {
          "data": {
            "text/plain": [
              "OllamaEmbeddings(base_url='http://localhost:11434', model='llama2', embed_instruction='passage: ', query_instruction='query: ', mirostat=None, mirostat_eta=None, mirostat_tau=None, num_ctx=None, num_gpu=None, num_thread=None, repeat_last_n=None, repeat_penalty=None, temperature=None, stop=None, tfs_z=None, top_k=None, top_p=None, show_progress=False, headers=None, model_kwargs=None)"
            ]
          },
          "execution_count": 15,
          "metadata": {},
          "output_type": "execute_result"
        }
      ],
      "source": [
        "embeddings"
      ]
    },
    {
      "cell_type": "code",
      "execution_count": 16,
      "metadata": {
        "colab": {
          "base_uri": "https://localhost:8080/",
          "height": 721
        },
        "id": "CFW4uunoUMdF",
        "outputId": "649433b4-bc7e-43ac-bd9d-1ea8f520ee1c"
      },
      "outputs": [],
      "source": [
        "db = Chroma.from_documents(splits[:1], embedding = embeddings)"
      ]
    },
    {
      "cell_type": "code",
      "execution_count": 28,
      "metadata": {},
      "outputs": [
        {
          "data": {
            "text/plain": [
              "[Document(page_content='Sagarmatha National Park', metadata={'source': 'https://whc.unesco.org/en/list/120/'})]"
            ]
          },
          "execution_count": 28,
          "metadata": {},
          "output_type": "execute_result"
        }
      ],
      "source": [
        "splits[:1]"
      ]
    },
    {
      "cell_type": "code",
      "execution_count": 18,
      "metadata": {
        "id": "ZtvWnH9cU5RS"
      },
      "outputs": [],
      "source": [
        "retriever = db.as_retriever()"
      ]
    },
    {
      "cell_type": "code",
      "execution_count": 19,
      "metadata": {},
      "outputs": [],
      "source": [
        "prompt = hub.pull(\"rlm/rag-prompt\")"
      ]
    },
    {
      "cell_type": "code",
      "execution_count": 22,
      "metadata": {},
      "outputs": [],
      "source": [
        "llm = Ollama(model = \"llama2\")"
      ]
    },
    {
      "cell_type": "code",
      "execution_count": 23,
      "metadata": {},
      "outputs": [],
      "source": [
        "def format_docs(docs):\n",
        "    return \"\\n\\n\".join(doc.page_content for doc in docs)"
      ]
    },
    {
      "cell_type": "code",
      "execution_count": 26,
      "metadata": {},
      "outputs": [],
      "source": [
        "rag_chain = (\n",
        "    {\"context\": retriever | format_docs, \"question\": RunnablePassthrough()}\n",
        "    | prompt\n",
        "    | llm\n",
        "    | StrOutputParser()\n",
        ")"
      ]
    },
    {
      "cell_type": "code",
      "execution_count": 29,
      "metadata": {},
      "outputs": [
        {
          "name": "stderr",
          "output_type": "stream",
          "text": [
            "Number of requested results 4 is greater than number of elements in index 1, updating n_results = 1\n"
          ]
        },
        {
          "data": {
            "text/plain": [
              "'Sagarmatha National Park, also known as the Everest National Park, is a protected area located in the Himalayas of Nepal. It is home to Mount Everest, the highest peak in the world, and several other mountain peaks. The park was established in 1976 to preserve the natural beauty and biodiversity of the region, and it is known for its stunning landscapes, unique wildlife, and cultural significance.'"
            ]
          },
          "execution_count": 29,
          "metadata": {},
          "output_type": "execute_result"
        }
      ],
      "source": [
        "rag_chain.invoke(\"what is Sagarmatha National Par?\")"
      ]
    },
    {
      "cell_type": "code",
      "execution_count": null,
      "metadata": {},
      "outputs": [],
      "source": []
    }
  ],
  "metadata": {
    "accelerator": "GPU",
    "colab": {
      "gpuType": "T4",
      "provenance": []
    },
    "kernelspec": {
      "display_name": "Python 3",
      "name": "python3"
    },
    "language_info": {
      "codemirror_mode": {
        "name": "ipython",
        "version": 3
      },
      "file_extension": ".py",
      "mimetype": "text/x-python",
      "name": "python",
      "nbconvert_exporter": "python",
      "pygments_lexer": "ipython3",
      "version": "3.10.12"
    }
  },
  "nbformat": 4,
  "nbformat_minor": 0
}
